{
 "cells": [
  {
   "cell_type": "markdown",
   "metadata": {},
   "source": [
    "# Exam R\n",
    "Mark Klik & Misja Mikkers\n",
    "\n",
    "# Introduction\n",
    "\n",
    "The exam consists of 2 parts. In the first part, you have to run a regression, test if the assumptions of a linear regression model are met, and make 2 graphs.\n",
    "\n",
    "In the second part of the exam, you will have to make a map of Catholic and Protestant schools in the Netherlands.\n",
    "\n",
    "# Packages\n"
   ]
  },
  {
   "cell_type": "code",
   "execution_count": 22,
   "metadata": {},
   "outputs": [],
   "source": [
    "library(tidyverse)\n",
    "library(gvlma)\n"
   ]
  },
  {
   "cell_type": "markdown",
   "metadata": {},
   "source": [
    "# Assignment 1\n",
    "\n",
    "\n",
    "## Data\n",
    "\n",
    "The data are given:\n"
   ]
  },
  {
   "cell_type": "code",
   "execution_count": 3,
   "metadata": {},
   "outputs": [],
   "source": [
    "set.seed(123)\n",
    "df1 <- as.data.frame(matrix(runif(1*50, min = 1, max = 10), ncol = 1)) %>%\n",
    "    mutate(epsilon = rnorm(50, mean = 0, sd = 2)) %>%\n",
    "    mutate(response = 3 - 2* V1  + epsilon) %>%\n",
    "    mutate(group = ifelse(V1 <= 5, 1,2))"
   ]
  },
  {
   "cell_type": "markdown",
   "metadata": {},
   "source": [
    "## Asignment 1a\n",
    "\n",
    "The first assigment is to make boxplot using ggplot with group on the x-axis and V1 on the y-axis."
   ]
  },
  {
   "cell_type": "code",
   "execution_count": 36,
   "metadata": {},
   "outputs": [
    {
     "ename": "ERROR",
     "evalue": "Error: ggplot2 doesn't know how to deal with data of class gg/ggplot\n",
     "output_type": "error",
     "traceback": [
      "Error: ggplot2 doesn't know how to deal with data of class gg/ggplot\nTraceback:\n",
      "1. ggplot(df1, aes(x = group, y = V1))",
      "2. ggplot.default(df1, aes(x = group, y = V1))",
      "3. ggplot.data.frame(fortify(data, ...), mapping, environment = environment)",
      "4. structure(list(data = data, layers = list(), scales = scales_list(), \n .     mapping = mapping, theme = list(), coordinates = coord_cartesian(), \n .     facet = facet_null(), plot_env = environment), class = c(\"gg\", \n .     \"ggplot\"))",
      "5. fortify(data, ...)",
      "6. fortify.default(data, ...)",
      "7. stop(\"ggplot2 doesn't know how to deal with data of class \", \n .     paste(class(model), collapse = \"/\"), call. = FALSE)"
     ]
    }
   ],
   "source": [
    "ggplot(df1, aes(x=group, y = V1)) +\n",
    "       geom_boxplot()"
   ]
  },
  {
   "cell_type": "markdown",
   "metadata": {},
   "source": [
    "## Assignment 1b\n",
    "\n",
    "Run a regression with response variable as a function of V1.\n",
    "Show the summary statistics of the regression.\n"
   ]
  },
  {
   "cell_type": "code",
   "execution_count": 11,
   "metadata": {},
   "outputs": [
    {
     "ename": "ERROR",
     "evalue": "Error in as.data.frame.default(data): cannot coerce class \"c(\"gg\", \"ggplot\")\" to a data.frame\n",
     "output_type": "error",
     "traceback": [
      "Error in as.data.frame.default(data): cannot coerce class \"c(\"gg\", \"ggplot\")\" to a data.frame\nTraceback:\n",
      "1. lm(data = df1, response ~ V1)",
      "2. eval(mf, parent.frame())",
      "3. eval(mf, parent.frame())",
      "4. stats::model.frame(formula = response ~ V1, data = df1, drop.unused.levels = TRUE)",
      "5. model.frame.default(formula = response ~ V1, data = df1, drop.unused.levels = TRUE)",
      "6. as.data.frame(data)",
      "7. as.data.frame.default(data)",
      "8. stop(gettextf(\"cannot coerce class \\\"%s\\\" to a data.frame\", deparse(class(x))), \n .     domain = NA)"
     ]
    }
   ],
   "source": [
    "reg1 <- lm(data = df1, response ~ V1)\n",
    "summary(reg1)"
   ]
  },
  {
   "cell_type": "markdown",
   "metadata": {},
   "source": [
    "check if the assumptions of linear regression are met with the `gvlma()` function."
   ]
  },
  {
   "cell_type": "code",
   "execution_count": 8,
   "metadata": {},
   "outputs": [
    {
     "ename": "ERROR",
     "evalue": "Error in gvlma(reg1): object 'reg1' not found\n",
     "output_type": "error",
     "traceback": [
      "Error in gvlma(reg1): object 'reg1' not found\nTraceback:\n",
      "1. gvlma(reg1)"
     ]
    }
   ],
   "source": [
    "gvlma(reg1)"
   ]
  },
  {
   "cell_type": "markdown",
   "metadata": {},
   "source": [
    "## Assignment 1c\n",
    "\n",
    "Make a scatterplot with: \n",
    "* V1 on the x-axis and the response on the y-axis\n",
    "* Include the regression line in red with confidence interval \n",
    "* In a classic theme\n",
    "* The x-axis should be labeled \"Predictor\", the y-axis should be labeled (\"Response\")\n",
    "\n"
   ]
  },
  {
   "cell_type": "code",
   "execution_count": null,
   "metadata": {},
   "outputs": [],
   "source": []
  },
  {
   "cell_type": "markdown",
   "metadata": {},
   "source": [
    "# Assigment 2\n",
    "\n",
    "# Packages"
   ]
  },
  {
   "cell_type": "code",
   "execution_count": 23,
   "metadata": {},
   "outputs": [
    {
     "ename": "ERROR",
     "evalue": "Error in library(thematicmaps): there is no package called 'thematicmaps'\n",
     "output_type": "error",
     "traceback": [
      "Error in library(thematicmaps): there is no package called 'thematicmaps'\nTraceback:\n",
      "1. library(thematicmaps)",
      "2. stop(txt, domain = NA)"
     ]
    }
   ],
   "source": [
    "library(thematicmaps)\n",
    "library(tidyverse)"
   ]
  },
  {
   "cell_type": "markdown",
   "metadata": {},
   "source": [
    "## Assignment 2a\n",
    "\n",
    "First you have to read in the file \"nld_municipal_map.csv\".\n",
    "Hint: Look at the notebook of week 6 about maps."
   ]
  },
  {
   "cell_type": "code",
   "execution_count": 31,
   "metadata": {},
   "outputs": [
    {
     "data": {
      "text/html": [
       "<table>\n",
       "<thead><tr><th scope=col>name</th><th scope=col>id</th><th scope=col>x</th><th scope=col>y</th><th scope=col>order</th><th scope=col>hole</th><th scope=col>piece</th><th scope=col>group</th></tr></thead>\n",
       "<tbody>\n",
       "\t<tr><td>Appingedam</td><td>0         </td><td>251260.5  </td><td>594393.8  </td><td>1         </td><td>FALSE     </td><td>1         </td><td>0.1       </td></tr>\n",
       "\t<tr><td>Appingedam</td><td>0         </td><td>251427.8  </td><td>594486.7  </td><td>2         </td><td>FALSE     </td><td>1         </td><td>0.1       </td></tr>\n",
       "\t<tr><td>Appingedam</td><td>0         </td><td>251668.8  </td><td>594646.8  </td><td>3         </td><td>FALSE     </td><td>1         </td><td>0.1       </td></tr>\n",
       "\t<tr><td>Appingedam</td><td>0         </td><td>251713.5  </td><td>594770.9  </td><td>4         </td><td>FALSE     </td><td>1         </td><td>0.1       </td></tr>\n",
       "\t<tr><td>Appingedam</td><td>0         </td><td>251354.6  </td><td>595461.4  </td><td>5         </td><td>FALSE     </td><td>1         </td><td>0.1       </td></tr>\n",
       "\t<tr><td>Appingedam</td><td>0         </td><td>251310.3  </td><td>596022.5  </td><td>6         </td><td>FALSE     </td><td>1         </td><td>0.1       </td></tr>\n",
       "</tbody>\n",
       "</table>\n"
      ],
      "text/latex": [
       "\\begin{tabular}{r|llllllll}\n",
       " name & id & x & y & order & hole & piece & group\\\\\n",
       "\\hline\n",
       "\t Appingedam & 0          & 251260.5   & 594393.8   & 1          & FALSE      & 1          & 0.1       \\\\\n",
       "\t Appingedam & 0          & 251427.8   & 594486.7   & 2          & FALSE      & 1          & 0.1       \\\\\n",
       "\t Appingedam & 0          & 251668.8   & 594646.8   & 3          & FALSE      & 1          & 0.1       \\\\\n",
       "\t Appingedam & 0          & 251713.5   & 594770.9   & 4          & FALSE      & 1          & 0.1       \\\\\n",
       "\t Appingedam & 0          & 251354.6   & 595461.4   & 5          & FALSE      & 1          & 0.1       \\\\\n",
       "\t Appingedam & 0          & 251310.3   & 596022.5   & 6          & FALSE      & 1          & 0.1       \\\\\n",
       "\\end{tabular}\n"
      ],
      "text/markdown": [
       "\n",
       "name | id | x | y | order | hole | piece | group | \n",
       "|---|---|---|---|---|---|\n",
       "| Appingedam | 0          | 251260.5   | 594393.8   | 1          | FALSE      | 1          | 0.1        | \n",
       "| Appingedam | 0          | 251427.8   | 594486.7   | 2          | FALSE      | 1          | 0.1        | \n",
       "| Appingedam | 0          | 251668.8   | 594646.8   | 3          | FALSE      | 1          | 0.1        | \n",
       "| Appingedam | 0          | 251713.5   | 594770.9   | 4          | FALSE      | 1          | 0.1        | \n",
       "| Appingedam | 0          | 251354.6   | 595461.4   | 5          | FALSE      | 1          | 0.1        | \n",
       "| Appingedam | 0          | 251310.3   | 596022.5   | 6          | FALSE      | 1          | 0.1        | \n",
       "\n",
       "\n"
      ],
      "text/plain": [
       "  name       id x        y        order hole  piece group\n",
       "1 Appingedam 0  251260.5 594393.8 1     FALSE 1     0.1  \n",
       "2 Appingedam 0  251427.8 594486.7 2     FALSE 1     0.1  \n",
       "3 Appingedam 0  251668.8 594646.8 3     FALSE 1     0.1  \n",
       "4 Appingedam 0  251713.5 594770.9 4     FALSE 1     0.1  \n",
       "5 Appingedam 0  251354.6 595461.4 5     FALSE 1     0.1  \n",
       "6 Appingedam 0  251310.3 596022.5 6     FALSE 1     0.1  "
      ]
     },
     "metadata": {},
     "output_type": "display_data"
    }
   ],
   "source": [
    "map_municipal <- read.csv2(\"../Downloads/nld_municipal_map.csv\", stringsAsFactor = FALSE, dec = \".\")\n",
    "head(map_municipal)"
   ]
  },
  {
   "cell_type": "markdown",
   "metadata": {},
   "source": [
    "## Assignment 2b\n",
    "\n",
    "Now you can make an empty map of the Netherlands."
   ]
  },
  {
   "cell_type": "code",
   "execution_count": 32,
   "metadata": {},
   "outputs": [
    {
     "ename": "ERROR",
     "evalue": "Error in AddMapLayer(MapPlot(), map_muncipal): could not find function \"AddMapLayer\"\n",
     "output_type": "error",
     "traceback": [
      "Error in AddMapLayer(MapPlot(), map_muncipal): could not find function \"AddMapLayer\"\nTraceback:\n"
     ]
    }
   ],
   "source": [
    "AddMapLayer(MapPlot(), map_muncipal)"
   ]
  },
  {
   "cell_type": "markdown",
   "metadata": {},
   "source": [
    "## Assignment 2c\n",
    "\n",
    "Read in the pc4 locations (nld_pc4_locations.csv).\n",
    "\n",
    "Hint: Don't forget the X and Y should be numeric variables!"
   ]
  },
  {
   "cell_type": "code",
   "execution_count": 14,
   "metadata": {},
   "outputs": [
    {
     "data": {
      "text/html": [
       "<table>\n",
       "<thead><tr><th scope=col>PC4.X.Y</th></tr></thead>\n",
       "<tbody>\n",
       "\t<tr><td>1011;122244.1016908;487223.1103132    </td></tr>\n",
       "\t<tr><td>1012;121612.797805668;487555.442193927</td></tr>\n",
       "\t<tr><td>1013;120324.504123209;489671.682341738</td></tr>\n",
       "\t<tr><td>1014;119515.029078042;489421.741526331</td></tr>\n",
       "\t<tr><td>1015;120740.451399318;488009.298815909</td></tr>\n",
       "\t<tr><td>1016;120537.758537905;487075.388236409</td></tr>\n",
       "\t<tr><td>1017;121225.666243389;486219.900904655</td></tr>\n",
       "\t<tr><td>1018;123019.458050919;486689.086180481</td></tr>\n",
       "\t<tr><td>1019;124140.209608516;487243.689811813</td></tr>\n",
       "\t<tr><td>1021;123040.734903846;488449.710030769</td></tr>\n",
       "\t<tr><td>1022;123837.76879954;489788.476357537 </td></tr>\n",
       "\t<tr><td>1023;125492.89658386;488804.359915965 </td></tr>\n",
       "\t<tr><td>1024;125308.339537792;489731.314129724</td></tr>\n",
       "\t<tr><td>1025;124113.228113307;490147.790369712</td></tr>\n",
       "\t<tr><td>1026;128248.021117002;488553.86971298 </td></tr>\n",
       "\t<tr><td>1027;126140.988580769;491176.395223342</td></tr>\n",
       "\t<tr><td>1028;129426.687029394;490857.38875997 </td></tr>\n",
       "\t<tr><td>1031;122439.035638306;489141.027110081</td></tr>\n",
       "\t<tr><td>1032;122619.283112731;490018.642783796</td></tr>\n",
       "\t<tr><td>1033;121383.435697902;491617.911118706</td></tr>\n",
       "\t<tr><td>1034;122761.709516163;490996.525944938</td></tr>\n",
       "\t<tr><td>1035;121363.30277784;492347.46339986  </td></tr>\n",
       "\t<tr><td>1036;122005.548929943;491304.542985311</td></tr>\n",
       "\t<tr><td>1037;119418.420265799;493410.389422677</td></tr>\n",
       "\t<tr><td>1041;118522.2978925;492009.421824792  </td></tr>\n",
       "\t<tr><td>1042;117196.240578333;491076.394526667</td></tr>\n",
       "\t<tr><td>1043;116990.192225755;489360.747941007</td></tr>\n",
       "\t<tr><td>1044;115826.50956135;491047.775385276 </td></tr>\n",
       "\t<tr><td>1045;114648.634641991;491963.14968355 </td></tr>\n",
       "\t<tr><td>1046;114321.802989095;489490.385952204</td></tr>\n",
       "\t<tr><td>...</td></tr>\n",
       "\t<tr><td>9967;226087.496739792;599042.507565208</td></tr>\n",
       "\t<tr><td>9968;225485.080322707;601617.235923799</td></tr>\n",
       "\t<tr><td>9969;228055.535541844;602374.942897163</td></tr>\n",
       "\t<tr><td>9971;218688.630030882;597212.522971691</td></tr>\n",
       "\t<tr><td>9972;217109.302249091;595139.763886061</td></tr>\n",
       "\t<tr><td>9973;218933.950453929;595292.66787    </td></tr>\n",
       "\t<tr><td>9974;214992.979008646;595726.285282709</td></tr>\n",
       "\t<tr><td>9975;214002.093702536;599301.852718297</td></tr>\n",
       "\t<tr><td>9976;211685.860332481;599952.095581074</td></tr>\n",
       "\t<tr><td>9977;222805.859304412;599961.798836618</td></tr>\n",
       "\t<tr><td>9978;218415.060670385;600394.383658077</td></tr>\n",
       "\t<tr><td>9979;239762.531308283;606179.268605359</td></tr>\n",
       "\t<tr><td>9981;240666.05782586;603416.972660271 </td></tr>\n",
       "\t<tr><td>9982;244358.461706298;604363.091872519</td></tr>\n",
       "\t<tr><td>9983;247694.679894984;603969.63673605 </td></tr>\n",
       "\t<tr><td>9984;249423.196870707;605542.96027399 </td></tr>\n",
       "\t<tr><td>9985;245655.026806383;602868.139536702</td></tr>\n",
       "\t<tr><td>9986;243499.535852617;601537.898521763</td></tr>\n",
       "\t<tr><td>9987;246219.517731489;601478.984137872</td></tr>\n",
       "\t<tr><td>9988;236116.845510552;602937.577961871</td></tr>\n",
       "\t<tr><td>9989;233177.293697411;599762.392582201</td></tr>\n",
       "\t<tr><td>9991;238658.454382394;595783.393165823</td></tr>\n",
       "\t<tr><td>9992;240556.928887708;596907.365463123</td></tr>\n",
       "\t<tr><td>9993;239001.65200724;594788.554537557 </td></tr>\n",
       "\t<tr><td>9994;238542.563852174;597420.859648913</td></tr>\n",
       "\t<tr><td>9995;238610.148640351;598530.806381955</td></tr>\n",
       "\t<tr><td>9996;241920.501569048;599868.571008036</td></tr>\n",
       "\t<tr><td>9997;241240.474039927;601093.672393467</td></tr>\n",
       "\t<tr><td>9998;237428.623918143;600456.92677581 </td></tr>\n",
       "\t<tr><td>9999;235559.017620307;597525.112674713</td></tr>\n",
       "</tbody>\n",
       "</table>\n"
      ],
      "text/latex": [
       "\\begin{tabular}{r|l}\n",
       " PC4.X.Y\\\\\n",
       "\\hline\n",
       "\t 1011;122244.1016908;487223.1103132    \\\\\n",
       "\t 1012;121612.797805668;487555.442193927\\\\\n",
       "\t 1013;120324.504123209;489671.682341738\\\\\n",
       "\t 1014;119515.029078042;489421.741526331\\\\\n",
       "\t 1015;120740.451399318;488009.298815909\\\\\n",
       "\t 1016;120537.758537905;487075.388236409\\\\\n",
       "\t 1017;121225.666243389;486219.900904655\\\\\n",
       "\t 1018;123019.458050919;486689.086180481\\\\\n",
       "\t 1019;124140.209608516;487243.689811813\\\\\n",
       "\t 1021;123040.734903846;488449.710030769\\\\\n",
       "\t 1022;123837.76879954;489788.476357537 \\\\\n",
       "\t 1023;125492.89658386;488804.359915965 \\\\\n",
       "\t 1024;125308.339537792;489731.314129724\\\\\n",
       "\t 1025;124113.228113307;490147.790369712\\\\\n",
       "\t 1026;128248.021117002;488553.86971298 \\\\\n",
       "\t 1027;126140.988580769;491176.395223342\\\\\n",
       "\t 1028;129426.687029394;490857.38875997 \\\\\n",
       "\t 1031;122439.035638306;489141.027110081\\\\\n",
       "\t 1032;122619.283112731;490018.642783796\\\\\n",
       "\t 1033;121383.435697902;491617.911118706\\\\\n",
       "\t 1034;122761.709516163;490996.525944938\\\\\n",
       "\t 1035;121363.30277784;492347.46339986  \\\\\n",
       "\t 1036;122005.548929943;491304.542985311\\\\\n",
       "\t 1037;119418.420265799;493410.389422677\\\\\n",
       "\t 1041;118522.2978925;492009.421824792  \\\\\n",
       "\t 1042;117196.240578333;491076.394526667\\\\\n",
       "\t 1043;116990.192225755;489360.747941007\\\\\n",
       "\t 1044;115826.50956135;491047.775385276 \\\\\n",
       "\t 1045;114648.634641991;491963.14968355 \\\\\n",
       "\t 1046;114321.802989095;489490.385952204\\\\\n",
       "\t ...\\\\\n",
       "\t 9967;226087.496739792;599042.507565208\\\\\n",
       "\t 9968;225485.080322707;601617.235923799\\\\\n",
       "\t 9969;228055.535541844;602374.942897163\\\\\n",
       "\t 9971;218688.630030882;597212.522971691\\\\\n",
       "\t 9972;217109.302249091;595139.763886061\\\\\n",
       "\t 9973;218933.950453929;595292.66787    \\\\\n",
       "\t 9974;214992.979008646;595726.285282709\\\\\n",
       "\t 9975;214002.093702536;599301.852718297\\\\\n",
       "\t 9976;211685.860332481;599952.095581074\\\\\n",
       "\t 9977;222805.859304412;599961.798836618\\\\\n",
       "\t 9978;218415.060670385;600394.383658077\\\\\n",
       "\t 9979;239762.531308283;606179.268605359\\\\\n",
       "\t 9981;240666.05782586;603416.972660271 \\\\\n",
       "\t 9982;244358.461706298;604363.091872519\\\\\n",
       "\t 9983;247694.679894984;603969.63673605 \\\\\n",
       "\t 9984;249423.196870707;605542.96027399 \\\\\n",
       "\t 9985;245655.026806383;602868.139536702\\\\\n",
       "\t 9986;243499.535852617;601537.898521763\\\\\n",
       "\t 9987;246219.517731489;601478.984137872\\\\\n",
       "\t 9988;236116.845510552;602937.577961871\\\\\n",
       "\t 9989;233177.293697411;599762.392582201\\\\\n",
       "\t 9991;238658.454382394;595783.393165823\\\\\n",
       "\t 9992;240556.928887708;596907.365463123\\\\\n",
       "\t 9993;239001.65200724;594788.554537557 \\\\\n",
       "\t 9994;238542.563852174;597420.859648913\\\\\n",
       "\t 9995;238610.148640351;598530.806381955\\\\\n",
       "\t 9996;241920.501569048;599868.571008036\\\\\n",
       "\t 9997;241240.474039927;601093.672393467\\\\\n",
       "\t 9998;237428.623918143;600456.92677581 \\\\\n",
       "\t 9999;235559.017620307;597525.112674713\\\\\n",
       "\\end{tabular}\n"
      ],
      "text/markdown": [
       "\n",
       "PC4.X.Y | \n",
       "|---|---|---|---|---|---|---|---|---|---|---|---|---|---|---|---|---|---|---|---|---|---|---|---|---|---|---|---|---|---|---|---|---|---|---|---|---|---|---|---|---|---|---|---|---|---|---|---|---|---|---|---|---|---|---|---|---|---|---|---|---|\n",
       "| 1011;122244.1016908;487223.1103132     | \n",
       "| 1012;121612.797805668;487555.442193927 | \n",
       "| 1013;120324.504123209;489671.682341738 | \n",
       "| 1014;119515.029078042;489421.741526331 | \n",
       "| 1015;120740.451399318;488009.298815909 | \n",
       "| 1016;120537.758537905;487075.388236409 | \n",
       "| 1017;121225.666243389;486219.900904655 | \n",
       "| 1018;123019.458050919;486689.086180481 | \n",
       "| 1019;124140.209608516;487243.689811813 | \n",
       "| 1021;123040.734903846;488449.710030769 | \n",
       "| 1022;123837.76879954;489788.476357537  | \n",
       "| 1023;125492.89658386;488804.359915965  | \n",
       "| 1024;125308.339537792;489731.314129724 | \n",
       "| 1025;124113.228113307;490147.790369712 | \n",
       "| 1026;128248.021117002;488553.86971298  | \n",
       "| 1027;126140.988580769;491176.395223342 | \n",
       "| 1028;129426.687029394;490857.38875997  | \n",
       "| 1031;122439.035638306;489141.027110081 | \n",
       "| 1032;122619.283112731;490018.642783796 | \n",
       "| 1033;121383.435697902;491617.911118706 | \n",
       "| 1034;122761.709516163;490996.525944938 | \n",
       "| 1035;121363.30277784;492347.46339986   | \n",
       "| 1036;122005.548929943;491304.542985311 | \n",
       "| 1037;119418.420265799;493410.389422677 | \n",
       "| 1041;118522.2978925;492009.421824792   | \n",
       "| 1042;117196.240578333;491076.394526667 | \n",
       "| 1043;116990.192225755;489360.747941007 | \n",
       "| 1044;115826.50956135;491047.775385276  | \n",
       "| 1045;114648.634641991;491963.14968355  | \n",
       "| 1046;114321.802989095;489490.385952204 | \n",
       "| ... | \n",
       "| 9967;226087.496739792;599042.507565208 | \n",
       "| 9968;225485.080322707;601617.235923799 | \n",
       "| 9969;228055.535541844;602374.942897163 | \n",
       "| 9971;218688.630030882;597212.522971691 | \n",
       "| 9972;217109.302249091;595139.763886061 | \n",
       "| 9973;218933.950453929;595292.66787     | \n",
       "| 9974;214992.979008646;595726.285282709 | \n",
       "| 9975;214002.093702536;599301.852718297 | \n",
       "| 9976;211685.860332481;599952.095581074 | \n",
       "| 9977;222805.859304412;599961.798836618 | \n",
       "| 9978;218415.060670385;600394.383658077 | \n",
       "| 9979;239762.531308283;606179.268605359 | \n",
       "| 9981;240666.05782586;603416.972660271  | \n",
       "| 9982;244358.461706298;604363.091872519 | \n",
       "| 9983;247694.679894984;603969.63673605  | \n",
       "| 9984;249423.196870707;605542.96027399  | \n",
       "| 9985;245655.026806383;602868.139536702 | \n",
       "| 9986;243499.535852617;601537.898521763 | \n",
       "| 9987;246219.517731489;601478.984137872 | \n",
       "| 9988;236116.845510552;602937.577961871 | \n",
       "| 9989;233177.293697411;599762.392582201 | \n",
       "| 9991;238658.454382394;595783.393165823 | \n",
       "| 9992;240556.928887708;596907.365463123 | \n",
       "| 9993;239001.65200724;594788.554537557  | \n",
       "| 9994;238542.563852174;597420.859648913 | \n",
       "| 9995;238610.148640351;598530.806381955 | \n",
       "| 9996;241920.501569048;599868.571008036 | \n",
       "| 9997;241240.474039927;601093.672393467 | \n",
       "| 9998;237428.623918143;600456.92677581  | \n",
       "| 9999;235559.017620307;597525.112674713 | \n",
       "\n",
       "\n"
      ],
      "text/plain": [
       "     PC4.X.Y                               \n",
       "1    1011;122244.1016908;487223.1103132    \n",
       "2    1012;121612.797805668;487555.442193927\n",
       "3    1013;120324.504123209;489671.682341738\n",
       "4    1014;119515.029078042;489421.741526331\n",
       "5    1015;120740.451399318;488009.298815909\n",
       "6    1016;120537.758537905;487075.388236409\n",
       "7    1017;121225.666243389;486219.900904655\n",
       "8    1018;123019.458050919;486689.086180481\n",
       "9    1019;124140.209608516;487243.689811813\n",
       "10   1021;123040.734903846;488449.710030769\n",
       "11   1022;123837.76879954;489788.476357537 \n",
       "12   1023;125492.89658386;488804.359915965 \n",
       "13   1024;125308.339537792;489731.314129724\n",
       "14   1025;124113.228113307;490147.790369712\n",
       "15   1026;128248.021117002;488553.86971298 \n",
       "16   1027;126140.988580769;491176.395223342\n",
       "17   1028;129426.687029394;490857.38875997 \n",
       "18   1031;122439.035638306;489141.027110081\n",
       "19   1032;122619.283112731;490018.642783796\n",
       "20   1033;121383.435697902;491617.911118706\n",
       "21   1034;122761.709516163;490996.525944938\n",
       "22   1035;121363.30277784;492347.46339986  \n",
       "23   1036;122005.548929943;491304.542985311\n",
       "24   1037;119418.420265799;493410.389422677\n",
       "25   1041;118522.2978925;492009.421824792  \n",
       "26   1042;117196.240578333;491076.394526667\n",
       "27   1043;116990.192225755;489360.747941007\n",
       "28   1044;115826.50956135;491047.775385276 \n",
       "29   1045;114648.634641991;491963.14968355 \n",
       "30   1046;114321.802989095;489490.385952204\n",
       "...  ...                                   \n",
       "4037 9967;226087.496739792;599042.507565208\n",
       "4038 9968;225485.080322707;601617.235923799\n",
       "4039 9969;228055.535541844;602374.942897163\n",
       "4040 9971;218688.630030882;597212.522971691\n",
       "4041 9972;217109.302249091;595139.763886061\n",
       "4042 9973;218933.950453929;595292.66787    \n",
       "4043 9974;214992.979008646;595726.285282709\n",
       "4044 9975;214002.093702536;599301.852718297\n",
       "4045 9976;211685.860332481;599952.095581074\n",
       "4046 9977;222805.859304412;599961.798836618\n",
       "4047 9978;218415.060670385;600394.383658077\n",
       "4048 9979;239762.531308283;606179.268605359\n",
       "4049 9981;240666.05782586;603416.972660271 \n",
       "4050 9982;244358.461706298;604363.091872519\n",
       "4051 9983;247694.679894984;603969.63673605 \n",
       "4052 9984;249423.196870707;605542.96027399 \n",
       "4053 9985;245655.026806383;602868.139536702\n",
       "4054 9986;243499.535852617;601537.898521763\n",
       "4055 9987;246219.517731489;601478.984137872\n",
       "4056 9988;236116.845510552;602937.577961871\n",
       "4057 9989;233177.293697411;599762.392582201\n",
       "4058 9991;238658.454382394;595783.393165823\n",
       "4059 9992;240556.928887708;596907.365463123\n",
       "4060 9993;239001.65200724;594788.554537557 \n",
       "4061 9994;238542.563852174;597420.859648913\n",
       "4062 9995;238610.148640351;598530.806381955\n",
       "4063 9996;241920.501569048;599868.571008036\n",
       "4064 9997;241240.474039927;601093.672393467\n",
       "4065 9998;237428.623918143;600456.92677581 \n",
       "4066 9999;235559.017620307;597525.112674713"
      ]
     },
     "metadata": {},
     "output_type": "display_data"
    }
   ],
   "source": [
    "read.csv(\"../Downloads/nld_pc4_locations.csv\", header = TRUE, sep = ',')"
   ]
  },
  {
   "cell_type": "markdown",
   "metadata": {},
   "source": [
    "## Assignment 2d\n",
    "\n",
    "### 2di\n",
    "\n",
    "Read in the school data\n"
   ]
  },
  {
   "cell_type": "code",
   "execution_count": 35,
   "metadata": {},
   "outputs": [],
   "source": [
    "schools <- read.csv2(\"../Downloads/schools.csv\", header = TRUE, sep = ',')"
   ]
  },
  {
   "cell_type": "markdown",
   "metadata": {},
   "source": [
    "### 2dii\n",
    "\n",
    "First, create a new dataframe schools1, which is equal to schools.\n",
    "\n",
    "As you see POSTCODE has a structure of (1234 AB). You should create a new variable PC4 that is equal to the first 4 numbers in POSTCODE\n",
    "\n",
    "Hint: Use the function `substr()`\n",
    "\n",
    "Then select the variables PC4 and DENOMINATIE"
   ]
  },
  {
   "cell_type": "code",
   "execution_count": 14,
   "metadata": {
    "collapsed": true
   },
   "outputs": [],
   "source": [
    "schools1 <- schools %>%"
   ]
  },
  {
   "cell_type": "markdown",
   "metadata": {},
   "source": [
    "### 2diii\n",
    "\n",
    "Create the dataframe school_loc as a join from pc4_locations and school1 that combines the columns from both data frames, but only keeps rows where the value in the pc4_locations column matches in both data frames.\n",
    "And then select the observations with DENOMINATIE is equal to \"Rooms-Katholiek\" or \"Protestants-Christelijk\""
   ]
  },
  {
   "cell_type": "code",
   "execution_count": 15,
   "metadata": {
    "collapsed": true
   },
   "outputs": [],
   "source": [
    "school_loc <- "
   ]
  },
  {
   "cell_type": "markdown",
   "metadata": {},
   "source": [
    "## Assignment 2e\n",
    "\n",
    "Create a map of Catholic and Protestant schools in the Netherlands\n"
   ]
  },
  {
   "cell_type": "code",
   "execution_count": null,
   "metadata": {},
   "outputs": [],
   "source": [
    " "
   ]
  },
  {
   "cell_type": "markdown",
   "metadata": {},
   "source": [
    "End of notebook"
   ]
  }
 ],
 "metadata": {
  "anaconda-cloud": {},
  "kernelspec": {
   "display_name": "R",
   "language": "R",
   "name": "ir"
  },
  "language_info": {
   "codemirror_mode": "r",
   "file_extension": ".r",
   "mimetype": "text/x-r-source",
   "name": "R",
   "pygments_lexer": "r",
   "version": "3.4.3"
  }
 },
 "nbformat": 4,
 "nbformat_minor": 1
}
